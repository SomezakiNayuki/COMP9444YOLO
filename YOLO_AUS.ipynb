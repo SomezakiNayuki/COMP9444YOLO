{
 "cells": [
  {
   "cell_type": "code",
   "execution_count": 1,
   "metadata": {},
   "outputs": [],
   "source": [
    "import os\n",
    "import shutil\n",
    "from sklearn.model_selection import train_test_split"
   ]
  },
  {
   "cell_type": "code",
   "execution_count": 2,
   "metadata": {},
   "outputs": [],
   "source": [
    "os.mkdir('./AusRS_YOLO_Dataset')"
   ]
  },
  {
   "cell_type": "code",
   "execution_count": 3,
   "metadata": {},
   "outputs": [],
   "source": [
    "# Read images and annotations\n",
    "images = [os.path.join('./AusRS_YOLO/ts/ts/', x) for x in os.listdir('./AusRS_YOLO/ts/ts/') if x[-3:] == \"jpg\"]\n",
    "annotations = [os.path.join('./AusRS_YOLO/ts/ts/', x) for x in os.listdir('./AusRS_YOLO/ts/ts/') if x[-3:] == \"txt\"]\n",
    "\n",
    "images.sort()\n",
    "annotations.sort()\n",
    "\n",
    "# Split the dataset into train-valid-test splits \n",
    "train_images, val_images, train_annotations, val_annotations = train_test_split(images, annotations, test_size = 0.2, random_state = 1)\n",
    "val_images, test_images, val_annotations, test_annotations = train_test_split(val_images, val_annotations, test_size = 0.5, random_state = 1)"
   ]
  },
  {
   "cell_type": "code",
   "execution_count": 4,
   "metadata": {},
   "outputs": [],
   "source": [
    "os.mkdir('./AusRS_YOLO_Dataset/images')\n",
    "os.mkdir('./AusRS_YOLO_Dataset/labels')\n",
    "\n",
    "os.mkdir('./AusRS_YOLO_Dataset/images/train')\n",
    "os.mkdir('./AusRS_YOLO_Dataset/images/val')\n",
    "os.mkdir('./AusRS_YOLO_Dataset/images/test')\n",
    "\n",
    "os.mkdir('./AusRS_YOLO_Dataset/labels/train')\n",
    "os.mkdir('./AusRS_YOLO_Dataset/labels/val')\n",
    "os.mkdir('./AusRS_YOLO_Dataset/labels/test')"
   ]
  },
  {
   "cell_type": "code",
   "execution_count": 5,
   "metadata": {},
   "outputs": [],
   "source": [
    "#Utility function to move images \n",
    "def move_files_to_folder(list_of_files, destination_folder):\n",
    "    for f in list_of_files:\n",
    "        try:\n",
    "            shutil.move(f, destination_folder)\n",
    "        except:\n",
    "            print(f)\n",
    "            assert False\n",
    "\n",
    "# Move the splits into their folders\n",
    "move_files_to_folder(train_images, './AusRS_YOLO_Dataset/images/train/')\n",
    "move_files_to_folder(val_images, './AusRS_YOLO_Dataset/images/val/')\n",
    "move_files_to_folder(test_images, './AusRS_YOLO_Dataset/images/test/')\n",
    "move_files_to_folder(train_annotations, './AusRS_YOLO_Dataset/labels/train/')\n",
    "move_files_to_folder(val_annotations, './AusRS_YOLO_Dataset/labels/val/')\n",
    "move_files_to_folder(test_annotations, './AusRS_YOLO_Dataset/labels/test/')"
   ]
  }
 ],
 "metadata": {
  "kernelspec": {
   "display_name": "Python 3.9.7 64-bit",
   "language": "python",
   "name": "python3"
  },
  "language_info": {
   "codemirror_mode": {
    "name": "ipython",
    "version": 3
   },
   "file_extension": ".py",
   "mimetype": "text/x-python",
   "name": "python",
   "nbconvert_exporter": "python",
   "pygments_lexer": "ipython3",
   "version": "3.9.7"
  },
  "orig_nbformat": 4,
  "vscode": {
   "interpreter": {
    "hash": "7f78d11b6a476b72a2e096ef0cb03253587663dcf3714f3fee6482bd8c147a50"
   }
  }
 },
 "nbformat": 4,
 "nbformat_minor": 2
}
